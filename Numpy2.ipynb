{
 "cells": [
  {
   "cell_type": "code",
   "execution_count": 1,
   "metadata": {},
   "outputs": [
    {
     "name": "stdout",
     "output_type": "stream",
     "text": [
      "[ 4 10  3  5  5  4 10  4  5  4]\n"
     ]
    }
   ],
   "source": [
    "from numpy import random\n",
    "\n",
    "x=random.choice([3,10,5,4,6],p=[0.1,0.2,0.3,0.3,0.1],size=(10))\n",
    "print(x)"
   ]
  },
  {
   "cell_type": "markdown",
   "metadata": {},
   "source": [
    "Random Permutations of Elements\n",
    "A permutation refers to an arrangement of elements. e.g. [3, 2, 1] is a permutation of [1, 2, 3] and vice-versa.\n",
    "\n",
    "The NumPy Random module provides two methods for this: shuffle() and permutation().\n",
    "\n",
    "\n",
    "Permutation()\n",
    "\n",
    "The permutation() method returns a re-arranged array (and leaves the original array un-changed)."
   ]
  },
  {
   "cell_type": "code",
   "execution_count": 26,
   "metadata": {},
   "outputs": [
    {
     "name": "stdout",
     "output_type": "stream",
     "text": [
      "[5 6 7 8 9]\n",
      "[5 7 8 9 6]\n"
     ]
    }
   ],
   "source": [
    "from numpy import random\n",
    "import numpy as np\n",
    "\n",
    "arr1=np.array([5,6,7,8,9])\n",
    "arra2=random.permutation(arr1)\n",
    "\n",
    "\n",
    "print(arr1)# Original array as it is\n",
    "\n",
    "print(arra2) #Shuffled array"
   ]
  },
  {
   "cell_type": "markdown",
   "metadata": {},
   "source": [
    "Shuffling Arrays\n",
    "Shuffle means changing arrangement of elements in-place. i.e. in the array itself. In the assign it will give only blank.\n",
    "It will make the changes in the original array itself."
   ]
  },
  {
   "cell_type": "code",
   "execution_count": 29,
   "metadata": {},
   "outputs": [
    {
     "name": "stdout",
     "output_type": "stream",
     "text": [
      "[7 8 9 6 5]\n",
      "None\n"
     ]
    }
   ],
   "source": [
    "from numpy import random\n",
    "import numpy as np\n",
    "\n",
    "arr1=np.array([5,6,7,8,9])\n",
    "arra2=random.shuffle(arr1)\n",
    "\n",
    "print(arr1)\n",
    "\n",
    "print(arra2) #It will not give the Shuffled value. you will get null only."
   ]
  }
 ],
 "metadata": {
  "kernelspec": {
   "display_name": "Python 3",
   "language": "python",
   "name": "python3"
  },
  "language_info": {
   "codemirror_mode": {
    "name": "ipython",
    "version": 3
   },
   "file_extension": ".py",
   "mimetype": "text/x-python",
   "name": "python",
   "nbconvert_exporter": "python",
   "pygments_lexer": "ipython3",
   "version": "3.11.9"
  }
 },
 "nbformat": 4,
 "nbformat_minor": 2
}
