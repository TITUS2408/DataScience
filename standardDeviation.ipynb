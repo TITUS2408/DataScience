{
 "cells": [
  {
   "cell_type": "markdown",
   "metadata": {},
   "source": [
    "Standard deviation is a useful measure of how spread out a set of data is, and is important for several reasons.\n",
    "\n",
    "\n",
    "Standard deviation tells you how far each data point is from the mean, on average. A high standard deviation means that values are spread out, while a low standard deviation means that values are clustered close to the mean"
   ]
  }
 ],
 "metadata": {
  "language_info": {
   "name": "python"
  }
 },
 "nbformat": 4,
 "nbformat_minor": 2
}
