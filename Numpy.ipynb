{
 "cells": [
  {
   "cell_type": "code",
   "execution_count": 7,
   "metadata": {},
   "outputs": [],
   "source": [
    "import numpy as np"
   ]
  },
  {
   "cell_type": "code",
   "execution_count": 10,
   "metadata": {},
   "outputs": [
    {
     "name": "stdout",
     "output_type": "stream",
     "text": [
      "[1 2 3 4]\n",
      "[[1 2 3 4]\n",
      " [4 5 6 7]]\n"
     ]
    }
   ],
   "source": [
    "#Convert python list to numpy array\n",
    "a=[1,2,3,4]\n",
    "\n",
    "b=[[1,2,3,4],[4,5,6,7]]\n",
    "\n",
    "\n",
    "\n",
    "np_arrayA=np.array(a)\n",
    "\n",
    "np_arrayB=np.array(b)\n",
    "\n",
    "print(np_arrayA)\n",
    "print(np_arrayB)\n",
    "\n"
   ]
  },
  {
   "cell_type": "code",
   "execution_count": 9,
   "metadata": {},
   "outputs": [
    {
     "name": "stdout",
     "output_type": "stream",
     "text": [
      "(4,)\n",
      "(2, 4)\n"
     ]
    }
   ],
   "source": [
    "#get the dimension of the numpy array\n",
    "print(np_arrayA.shape) \n",
    "print(np_arrayB.shape)"
   ]
  },
  {
   "cell_type": "code",
   "execution_count": 38,
   "metadata": {},
   "outputs": [
    {
     "name": "stdout",
     "output_type": "stream",
     "text": [
      "[[ 2  4  6  8]\n",
      " [ 5  7  9 11]]\n",
      "[[ 1  4  9 16]\n",
      " [ 4 10 18 28]]\n"
     ]
    }
   ],
   "source": [
    "\n",
    "#numpy array operations\n",
    "\n",
    "np_arrayD=np_arrayA+np_arrayB\n",
    "print(np_arrayD)\n",
    "\n",
    "np_arrayE=np_arrayA*np_arrayB\n",
    "print(np_arrayE)\n"
   ]
  },
  {
   "cell_type": "code",
   "execution_count": 11,
   "metadata": {},
   "outputs": [
    {
     "name": "stdout",
     "output_type": "stream",
     "text": [
      "1\n",
      "6\n"
     ]
    }
   ],
   "source": [
    "#accessing elements of numpy array\n",
    "\n",
    "a=[1,2,3,4]\n",
    "b=[[1,2,3,4],[4,5,6,7]]\n",
    "\n",
    "np_arrayA=np.array(a)\n",
    "np_arrayB=np.array(b)\n",
    "\n",
    "#Access one dimension array\n",
    "print(np_arrayA[0])\n",
    "\n",
    "#Access two dimension array\n",
    "print(np_arrayB[1,2])\n"
   ]
  },
  {
   "cell_type": "code",
   "execution_count": 42,
   "metadata": {},
   "outputs": [
    {
     "name": "stdout",
     "output_type": "stream",
     "text": [
      "[1 3 5]\n"
     ]
    }
   ],
   "source": [
    "#numpy array indexing\n",
    "\n",
    "np_arrayP=np.array([1,2,3,4,5])\n",
    "print(np_arrayP[np.array([0,2,4])]) #indexing using a numpy array\n"
   ]
  },
  {
   "cell_type": "code",
   "execution_count": 12,
   "metadata": {},
   "outputs": [
    {
     "name": "stdout",
     "output_type": "stream",
     "text": [
      "[2 5]\n",
      "[4]\n"
     ]
    }
   ],
   "source": [
    "\n",
    "#numpy array slicing\n",
    "'''[[1 2 3 4]\n",
    " [4 5 6 7]]'''\n",
    "\n",
    "print(np_arrayB[:,1]) #print the second column\n",
    "\n",
    "print(np_arrayB[1,:1:2]) #print the second row"
   ]
  },
  {
   "cell_type": "code",
   "execution_count": 6,
   "metadata": {},
   "outputs": [
    {
     "name": "stdout",
     "output_type": "stream",
     "text": [
      "10\n",
      "1\n",
      "4\n",
      "2.5\n",
      "1.118033988749895\n"
     ]
    }
   ],
   "source": [
    "#numpy array mathematical functions\n",
    "\n",
    "print(np.sum(np_arrayA)) #sum of all elements\n",
    "print(np.min(np_arrayA)) #minimum element\n",
    "print(np.max(np_arrayA)) #maximum element\n",
    "print(np.mean(np_arrayA)) #mean of elements\n",
    "\n",
    "print(np.std(np_arrayA)) #standard deviation of elements\n"
   ]
  },
  {
   "cell_type": "code",
   "execution_count": null,
   "metadata": {},
   "outputs": [],
   "source": [
    "#numpy array sorting\n",
    "\n",
    "np_arrayG=np.array([5,3,8,1,2])\n",
    "print(np.sort(np_arrayG)) #sorting in ascending order"
   ]
  },
  {
   "cell_type": "code",
   "execution_count": 13,
   "metadata": {},
   "outputs": [
    {
     "name": "stdout",
     "output_type": "stream",
     "text": [
      "(array([0, 2]),)\n"
     ]
    }
   ],
   "source": [
    "\n",
    "#numpy array filtering\n",
    "\n",
    "np_arrayH=np.array([5,3,8,1,2])\n",
    "print(np.where(np_arrayH>3)) #indices of elements greater than 3"
   ]
  },
  {
   "cell_type": "code",
   "execution_count": null,
   "metadata": {},
   "outputs": [],
   "source": [
    "\n",
    "#numpy array unique values\n",
    "\n",
    "np_arrayI=np.array([5,3,8,1,2,3,5])\n",
    "print(np.unique(np_arrayI)) #unique values in the array\n"
   ]
  },
  {
   "cell_type": "code",
   "execution_count": null,
   "metadata": {},
   "outputs": [],
   "source": [
    "#numpy array concatenation\n",
    "\n",
    "np_arrayJ=np.array([1,2,3])\n",
    "np_arrayK=np.array([4,5,6])\n",
    "print(np.concatenate((np_arrayJ,np_arrayK))) #concatenate two arrays"
   ]
  },
  {
   "cell_type": "code",
   "execution_count": 44,
   "metadata": {},
   "outputs": [
    {
     "name": "stdout",
     "output_type": "stream",
     "text": [
      "[array([1, 2, 3]), array([4, 5, 6]), array([7, 8, 9])]\n"
     ]
    }
   ],
   "source": [
    "#numpy array splitting\n",
    "\n",
    "np_arrayL=np.array([1,2,3,4,5,6,7,8,9])\n",
    "\n",
    "print(np.split(np_arrayL,3)) #split the array into three parts"
   ]
  },
  {
   "cell_type": "code",
   "execution_count": null,
   "metadata": {},
   "outputs": [],
   "source": [
    "'''Numpy Stack Functions'''"
   ]
  },
  {
   "cell_type": "code",
   "execution_count": 14,
   "metadata": {},
   "outputs": [
    {
     "name": "stdout",
     "output_type": "stream",
     "text": [
      "[[1 2 3]\n",
      " [4 5 6]\n",
      " [7 8 9]]\n"
     ]
    }
   ],
   "source": [
    "'''This code demonstrates the use of np.stack() to combine multiple 1D arrays into a single 2D array. Let's break it down:\n",
    "\n",
    "Three 1D NumPy arrays are created: np_arrayM, np_arrayN, and np_array.\n",
    "The np.stack() function is used to combine these arrays vertically.\n",
    "By default, np.stack() stacks arrays along a new axis (axis=0), which in this case results in a 2D array where each input array becomes a row.'''\n",
    "\n",
    "#numpy array stacking\n",
    "\n",
    "np_arrayM=np.array([1,2,3])\n",
    "np_arrayN=np.array([4,5,6])\n",
    "np_arrayO=np.array([7,8,9])\n",
    "print(np.stack((np_arrayM,np_arrayN,np_arrayO))) #stack arrays vertically\n"
   ]
  },
  {
   "cell_type": "code",
   "execution_count": 15,
   "metadata": {},
   "outputs": [
    {
     "name": "stdout",
     "output_type": "stream",
     "text": [
      "[[ 1  2  3]\n",
      " [ 4  5  6]\n",
      " [ 7  8  9]\n",
      " [10 11 12]]\n"
     ]
    }
   ],
   "source": [
    "'''Numpy Vertical Stack Functions.\n",
    "Stacks arrays vertically (row-wise), similar to the default behavior of np.stack().\n",
    "'''\n",
    "#Stacks arrays Vertical (column-wise).\n",
    "\n",
    "np_arrayV=np.array([[1,2,3],[4,5,6]])\n",
    "np_arrayW=np.array([[7,8,9],[10,11,12]])\n",
    "print(np.vstack((np_arrayV,np_arrayW))) #stack arrays Vertically"
   ]
  },
  {
   "cell_type": "code",
   "execution_count": 49,
   "metadata": {},
   "outputs": [
    {
     "name": "stdout",
     "output_type": "stream",
     "text": [
      "[[ 1  2  3  7  8  9]\n",
      " [ 4  5  6 10 11 12]]\n"
     ]
    }
   ],
   "source": [
    "'''Horizontal Stack Functions.\n",
    "np.hstack(): Stacks arrays horizontally (column-wise).\n",
    "'''  \n",
    "#Stack arrays Horizontally\n",
    "\n",
    "np_arrayT=np.array([[1,2,3],[4,5,6]])\n",
    "np_arrayU=np.array([[7,8,9],[10,11,12]])\n",
    "print(np.hstack((np_arrayT,np_arrayU))) #stack arrays horizontally"
   ]
  },
  {
   "cell_type": "code",
   "execution_count": 50,
   "metadata": {},
   "outputs": [
    {
     "name": "stdout",
     "output_type": "stream",
     "text": [
      "[[[ 1  7]\n",
      "  [ 2  8]\n",
      "  [ 3  9]]\n",
      "\n",
      " [[ 4 10]\n",
      "  [ 5 11]\n",
      "  [ 6 12]]]\n"
     ]
    }
   ],
   "source": [
    "'''Depth wise stack\n",
    "np.dstack(): Stacks arrays along the third axis (depth-wise).\n",
    "'''\n",
    "np_arrayV=np.array([[1,2,3],[4,5,6]])\n",
    "np_arrayW=np.array([[7,8,9],[10,11,12]])\n",
    "print(np.dstack((np_arrayV,np_arrayW))) #stack arrays depth-wise"
   ]
  },
  {
   "cell_type": "code",
   "execution_count": 61,
   "metadata": {},
   "outputs": [
    {
     "name": "stdout",
     "output_type": "stream",
     "text": [
      "[[ 1  2  3]\n",
      " [ 4  5  6]\n",
      " [ 7  8  9]\n",
      " [10 11 12]\n",
      " [ 7  8  9]\n",
      " [10 11 12]]\n"
     ]
    },
    {
     "data": {
      "text/plain": [
       "\"We create three 2D arrays: np_arrayX, np_arrayY, and np_arrayZ. Each of these arrays has a shape of (2, 3), meaning 2 rows and 3 columns.\\nThe code attempts to concatenate these arrays along axis=2. However, this will raise an error because these 2D arrays don't have a third axis (axis 2).\\nIn NumPy, axes are numbered starting from 0:\\n\\naxis=0 represents rows\\naxis=1 represents columns\\naxis=2 would represent depth in a 3D array, but our arrays are only 2D\""
      ]
     },
     "execution_count": 61,
     "metadata": {},
     "output_type": "execute_result"
    }
   ],
   "source": [
    "'''\n",
    "Concatenate\n",
    "np.concatenate(): Joins arrays along an existing axis. It's more flexible but requires you to specify the axis.\n",
    "'''\n",
    "\n",
    "np_arrayX=np.array([[1,2,3],[4,5,6]])\n",
    "np_arrayY=np.array([[7,8,9],[10,11,12]])\n",
    "np_arrayZ=np.array([[7,8,9],[10,11,12]])\n",
    "print(np.concatenate((np_arrayX,np_arrayY,np_arrayZ),axis=0)) #stack arrays horizontally along the specified axis\n",
    "\n",
    "#For Axis you can use either 0 or 1 for this scenario. Because the array is 2 dimensional.\n",
    "#If you give axis=2 you will get error. The Reason is below.\n",
    "'''We create three 2D arrays: np_arrayX, np_arrayY, and np_arrayZ. Each of these arrays has a shape of (2, 3), meaning 2 rows and 3 columns.\n",
    "The code attempts to concatenate these arrays along axis=2. However, this will raise an error because these 2D arrays don't have a third axis (axis 2).\n",
    "In NumPy, axes are numbered starting from 0:\n",
    "\n",
    "axis=0 represents rows\n",
    "axis=1 represents columns\n",
    "axis=2 would represent depth in a 3D array, but our arrays are only 2D'''"
   ]
  },
  {
   "cell_type": "code",
   "execution_count": 74,
   "metadata": {},
   "outputs": [
    {
     "name": "stdout",
     "output_type": "stream",
     "text": [
      "[[[ 1  2  9 10]\n",
      "  [ 3  4 11 12]]\n",
      "\n",
      " [[ 5  6 13 14]\n",
      "  [ 7  8 15 16]]]\n"
     ]
    }
   ],
   "source": [
    "'''What is three dimensional array?\n",
    "3D array is a three-dimensional structure. It can be viewed as a stack of 2D arrays. Each element in a 3D array can be accessed using three indices, one for the stack, another for the row, and another for the column.'''\n",
    "\n",
    "array1 = np.array([[[1, 2], [3, 4]], [[5, 6], [7, 8]]])\n",
    "array2 = np.array([[[9, 10], [11, 12]], [[13, 14], [15, 16]]])\n",
    "print(np.concatenate((array1,array2),axis=2)) #stack arrays horizontally along the specified axis"
   ]
  },
  {
   "cell_type": "markdown",
   "metadata": {},
   "source": [
    "What is NumPy?\n",
    "NumPy is a Python library used for working with arrays.\n",
    "\n",
    "It also has functions for working in domain of linear algebra, fourier transform, and matrices.\n",
    "\n",
    "Why Use NumPy?\n",
    "In Python we have lists that serve the purpose of arrays, but they are slow to process.\n",
    "\n",
    "NumPy aims to provide an array object that is up to 50x faster than traditional Python lists.\n",
    "\n",
    "The array object in NumPy is called ndarray, it provides a lot of supporting functions that make working with ndarray very easy.\n",
    "\n",
    "Arrays are very frequently used in data science, where speed and resources are very important.\n",
    "\n",
    "\n",
    "Why is NumPy Faster Than Lists?\n",
    "NumPy use fixed types and   functions.\n",
    "No type checking when iterating through objects.\n",
    "NumPy arrays are stored at one continuous place in memory unlike lists, so processes can access and manipulate them very efficiently.\n",
    "\n",
    "\n",
    "\n",
    "What is one dimensional array?\n",
    "A one-dimensional array can be viewed as a linear sequence of elements.\n",
    "\n",
    "What is two dimensional array?\n",
    "Collection of one D array is called 2D array.\n",
    "2D array is a two-dimensional structure. It can be viewed as a grid of elements. Each element in a 2D array can be accessed using two indices, one for the row and another for the column.\n",
    "\n",
    "What is three dimensional array?\n",
    "3D array is a three-dimensional structure. It can be viewed as a stack of 2D arrays. Each element in a 3D array can be accessed using three indices, one for the stack, another for the row, and another for the column.\n",
    "\n",
    "[[[1 2]\n",
    "  [3 4]]\n",
    "\n",
    " [[5 6]\n",
    "  [7 8]]]\n",
    "\n",
    "\n"
   ]
  }
 ],
 "metadata": {
  "kernelspec": {
   "display_name": "Python 3",
   "language": "python",
   "name": "python3"
  },
  "language_info": {
   "codemirror_mode": {
    "name": "ipython",
    "version": 3
   },
   "file_extension": ".py",
   "mimetype": "text/x-python",
   "name": "python",
   "nbconvert_exporter": "python",
   "pygments_lexer": "ipython3",
   "version": "3.11.9"
  }
 },
 "nbformat": 4,
 "nbformat_minor": 2
}
